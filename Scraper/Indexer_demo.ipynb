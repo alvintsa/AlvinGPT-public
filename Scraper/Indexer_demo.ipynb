{
  "cells": [
    {
      "cell_type": "code",
      "execution_count": null,
      "metadata": {
        "id": "uf6HsqQicw8-"
      },
      "outputs": [],
      "source": [
        "import json\n",
        "import os\n",
        "import pysolr\n",
        "import requests\n",
        "import pandas as pd\n",
        "\n",
        "CORE_NAME = \"IRF24P1T\"\n",
        "VM_IP = \"localhost\""
      ]
    },
    {
      "cell_type": "code",
      "execution_count": null,
      "metadata": {
        "id": "aoI0_dn-cw9A"
      },
      "outputs": [],
      "source": [
        "def delete_core(core=CORE_NAME):\n",
        "    print(os.system('sudo su - solr -c \"/opt/solr/bin/solr delete -c {core}\"'.format(core=core)))\n",
        "\n",
        "\n",
        "def create_core(core=CORE_NAME):\n",
        "    print(os.system(\n",
        "        'sudo su - solr -c \"/opt/solr/bin/solr create -c {core} -n data_driven_schema_configs\"'.format(\n",
        "            core=core)))"
      ]
    },
    {
      "cell_type": "code",
      "execution_count": null,
      "metadata": {
        "id": "RPigIGwWcw9A"
      },
      "outputs": [],
      "source": [
        "class Indexer:\n",
        "    def __init__(self):\n",
        "        self.solr_url = f'http://{VM_IP}:8983/solr/'\n",
        "        self.connection = pysolr.Solr(self.solr_url + CORE_NAME, always_commit=True, timeout=5000000)\n",
        "\n",
        "    def do_initial_setup(self):\n",
        "        delete_core()\n",
        "        create_core()\n",
        "\n",
        "    def create_documents(self, docs):\n",
        "        print(self.connection.add(docs))\n",
        "\n",
        "    def add_fields(self):\n",
        "        data = {\n",
        "            \"add-field\": [\n",
        "                {\n",
        "                    \"name\": \"field_1\",\n",
        "                    \"type\": \"string\",\n",
        "                    \"indexed\": True,\n",
        "                    \"multiValued\": False\n",
        "                },\n",
        "                {\n",
        "                    \"name\": \"field_2\",\n",
        "                    \"type\": \"string\",\n",
        "                    \"multiValued\": False\n",
        "                },\n",
        "            ]\n",
        "        }\n",
        "\n",
        "        print(requests.post(self.solr_url + CORE_NAME + \"/schema\", json=data).json())"
      ]
    },
    {
      "cell_type": "code",
      "execution_count": null,
      "metadata": {
        "id": "7REY0r3kcw9B",
        "outputId": "1dc12a70-a882-44f3-fe4e-f1fd7f7d79e6"
      },
      "outputs": [
        {
          "data": {
            "text/html": [
              "<div>\n",
              "<style scoped>\n",
              "    .dataframe tbody tr th:only-of-type {\n",
              "        vertical-align: middle;\n",
              "    }\n",
              "\n",
              "    .dataframe tbody tr th {\n",
              "        vertical-align: top;\n",
              "    }\n",
              "\n",
              "    .dataframe thead th {\n",
              "        text-align: right;\n",
              "    }\n",
              "</style>\n",
              "<table border=\"1\" class=\"dataframe\">\n",
              "  <thead>\n",
              "    <tr style=\"text-align: right;\">\n",
              "      <th></th>\n",
              "      <th>field_1</th>\n",
              "      <th>field_2</th>\n",
              "    </tr>\n",
              "  </thead>\n",
              "  <tbody>\n",
              "    <tr>\n",
              "      <th>0</th>\n",
              "      <td>This contains sample text A</td>\n",
              "      <td>This contains sample text B</td>\n",
              "    </tr>\n",
              "    <tr>\n",
              "      <th>1</th>\n",
              "      <td>This contains sample text C</td>\n",
              "      <td>This contains sample text D</td>\n",
              "    </tr>\n",
              "  </tbody>\n",
              "</table>\n",
              "</div>"
            ],
            "text/plain": [
              "                       field_1                      field_2\n",
              "0  This contains sample text A  This contains sample text B\n",
              "1  This contains sample text C  This contains sample text D"
            ]
          },
          "execution_count": 12,
          "metadata": {},
          "output_type": "execute_result"
        }
      ],
      "source": [
        "data = {\n",
        "    'field_1': ['This contains sample text A', 'This contains sample text C'],\n",
        "    'field_2': ['This contains sample text B', 'This contains sample text D']\n",
        "    }\n",
        "df = pd.DataFrame(data)\n",
        "df"
      ]
    },
    {
      "cell_type": "code",
      "execution_count": null,
      "metadata": {
        "id": "ZKD6_e7qcw9B",
        "outputId": "8aa52c7d-3371-487f-f76a-a1190a9c1fb1"
      },
      "outputs": [
        {
          "name": "stdout",
          "output_type": "stream",
          "text": [
            "256\n",
            "0\n",
            "{'responseHeader': {'status': 0, 'QTime': 298}}\n"
          ]
        }
      ],
      "source": [
        "# Setting up the core and adding the fields\n",
        "i = Indexer()\n",
        "i.do_initial_setup()\n",
        "i.add_fields()"
      ]
    },
    {
      "cell_type": "code",
      "execution_count": null,
      "metadata": {
        "id": "4t8z83edcw9C",
        "outputId": "df63dafb-c0b8-4a93-e1e6-1b66d6b214ea"
      },
      "outputs": [
        {
          "name": "stdout",
          "output_type": "stream",
          "text": [
            "{\n",
            "  \"responseHeader\":{\n",
            "    \"status\":0,\n",
            "    \"QTime\":67\n",
            "  }\n",
            "}\n"
          ]
        }
      ],
      "source": [
        "# Index the sample dataset\n",
        "collection = df.to_dict('records')\n",
        "i.create_documents(collection)"
      ]
    }
  ],
  "metadata": {
    "kernelspec": {
      "display_name": "Python 3",
      "language": "python",
      "name": "python3"
    },
    "language_info": {
      "codemirror_mode": {
        "name": "ipython",
        "version": 3
      },
      "file_extension": ".py",
      "mimetype": "text/x-python",
      "name": "python",
      "nbconvert_exporter": "python",
      "pygments_lexer": "ipython3",
      "version": "3.7.0"
    },
    "colab": {
      "provenance": []
    }
  },
  "nbformat": 4,
  "nbformat_minor": 0
}